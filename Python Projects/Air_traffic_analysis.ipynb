{
 "cells": [
  {
   "cell_type": "code",
   "execution_count": 193,
   "id": "2955ef07-c115-4371-afdb-64e0cf2fdb9b",
   "metadata": {
    "tags": []
   },
   "outputs": [],
   "source": [
    "import numpy\n",
    "import pandas as pd\n",
    "import matplotlib \n",
    "import matplotlib.pyplot as plt\n",
    "import seaborn as sns\n",
    "import datetime"
   ]
  },
  {
   "cell_type": "code",
   "execution_count": 51,
   "id": "ab850b0d-31e5-469d-86fa-49c3d5d19c5b",
   "metadata": {
    "tags": []
   },
   "outputs": [],
   "source": [
    "df=pd.read_csv(\"Air_Traffic_Passenger_Statistics.csv\")"
   ]
  },
  {
   "cell_type": "code",
   "execution_count": 52,
   "id": "fb0fce23-1fc9-48fd-b36e-e0bdb74ffa75",
   "metadata": {
    "tags": []
   },
   "outputs": [
    {
     "data": {
      "text/html": [
       "<div>\n",
       "<style scoped>\n",
       "    .dataframe tbody tr th:only-of-type {\n",
       "        vertical-align: middle;\n",
       "    }\n",
       "\n",
       "    .dataframe tbody tr th {\n",
       "        vertical-align: top;\n",
       "    }\n",
       "\n",
       "    .dataframe thead th {\n",
       "        text-align: right;\n",
       "    }\n",
       "</style>\n",
       "<table border=\"1\" class=\"dataframe\">\n",
       "  <thead>\n",
       "    <tr style=\"text-align: right;\">\n",
       "      <th></th>\n",
       "      <th>Activity Period</th>\n",
       "      <th>Operating Airline</th>\n",
       "      <th>Operating Airline IATA Code</th>\n",
       "      <th>Published Airline</th>\n",
       "      <th>Published Airline IATA Code</th>\n",
       "      <th>GEO Summary</th>\n",
       "      <th>GEO Region</th>\n",
       "      <th>Activity Type Code</th>\n",
       "      <th>Price Category Code</th>\n",
       "      <th>Terminal</th>\n",
       "      <th>Boarding Area</th>\n",
       "      <th>Passenger Count</th>\n",
       "    </tr>\n",
       "  </thead>\n",
       "  <tbody>\n",
       "    <tr>\n",
       "      <th>0</th>\n",
       "      <td>200507</td>\n",
       "      <td>ATA Airlines</td>\n",
       "      <td>TZ</td>\n",
       "      <td>ATA Airlines</td>\n",
       "      <td>TZ</td>\n",
       "      <td>Domestic</td>\n",
       "      <td>US</td>\n",
       "      <td>Deplaned</td>\n",
       "      <td>Low Fare</td>\n",
       "      <td>Terminal 1</td>\n",
       "      <td>B</td>\n",
       "      <td>27271</td>\n",
       "    </tr>\n",
       "    <tr>\n",
       "      <th>1</th>\n",
       "      <td>200507</td>\n",
       "      <td>ATA Airlines</td>\n",
       "      <td>TZ</td>\n",
       "      <td>ATA Airlines</td>\n",
       "      <td>TZ</td>\n",
       "      <td>Domestic</td>\n",
       "      <td>US</td>\n",
       "      <td>Enplaned</td>\n",
       "      <td>Low Fare</td>\n",
       "      <td>Terminal 1</td>\n",
       "      <td>B</td>\n",
       "      <td>29131</td>\n",
       "    </tr>\n",
       "    <tr>\n",
       "      <th>2</th>\n",
       "      <td>200507</td>\n",
       "      <td>ATA Airlines</td>\n",
       "      <td>TZ</td>\n",
       "      <td>ATA Airlines</td>\n",
       "      <td>TZ</td>\n",
       "      <td>Domestic</td>\n",
       "      <td>US</td>\n",
       "      <td>Thru / Transit</td>\n",
       "      <td>Low Fare</td>\n",
       "      <td>Terminal 1</td>\n",
       "      <td>B</td>\n",
       "      <td>5415</td>\n",
       "    </tr>\n",
       "    <tr>\n",
       "      <th>3</th>\n",
       "      <td>200507</td>\n",
       "      <td>Air Canada</td>\n",
       "      <td>AC</td>\n",
       "      <td>Air Canada</td>\n",
       "      <td>AC</td>\n",
       "      <td>International</td>\n",
       "      <td>Canada</td>\n",
       "      <td>Deplaned</td>\n",
       "      <td>Other</td>\n",
       "      <td>Terminal 1</td>\n",
       "      <td>B</td>\n",
       "      <td>35156</td>\n",
       "    </tr>\n",
       "    <tr>\n",
       "      <th>4</th>\n",
       "      <td>200507</td>\n",
       "      <td>Air Canada</td>\n",
       "      <td>AC</td>\n",
       "      <td>Air Canada</td>\n",
       "      <td>AC</td>\n",
       "      <td>International</td>\n",
       "      <td>Canada</td>\n",
       "      <td>Enplaned</td>\n",
       "      <td>Other</td>\n",
       "      <td>Terminal 1</td>\n",
       "      <td>B</td>\n",
       "      <td>34090</td>\n",
       "    </tr>\n",
       "    <tr>\n",
       "      <th>...</th>\n",
       "      <td>...</td>\n",
       "      <td>...</td>\n",
       "      <td>...</td>\n",
       "      <td>...</td>\n",
       "      <td>...</td>\n",
       "      <td>...</td>\n",
       "      <td>...</td>\n",
       "      <td>...</td>\n",
       "      <td>...</td>\n",
       "      <td>...</td>\n",
       "      <td>...</td>\n",
       "      <td>...</td>\n",
       "    </tr>\n",
       "    <tr>\n",
       "      <th>50725</th>\n",
       "      <td>202212</td>\n",
       "      <td>Vietnam Airlines JSC</td>\n",
       "      <td>VN</td>\n",
       "      <td>Vietnam Airlines JSC</td>\n",
       "      <td>VN</td>\n",
       "      <td>International</td>\n",
       "      <td>Asia</td>\n",
       "      <td>Enplaned</td>\n",
       "      <td>Other</td>\n",
       "      <td>International</td>\n",
       "      <td>A</td>\n",
       "      <td>3197</td>\n",
       "    </tr>\n",
       "    <tr>\n",
       "      <th>50726</th>\n",
       "      <td>202212</td>\n",
       "      <td>Virgin Atlantic</td>\n",
       "      <td>VS</td>\n",
       "      <td>Virgin Atlantic</td>\n",
       "      <td>VS</td>\n",
       "      <td>International</td>\n",
       "      <td>Europe</td>\n",
       "      <td>Deplaned</td>\n",
       "      <td>Other</td>\n",
       "      <td>International</td>\n",
       "      <td>A</td>\n",
       "      <td>5836</td>\n",
       "    </tr>\n",
       "    <tr>\n",
       "      <th>50727</th>\n",
       "      <td>202212</td>\n",
       "      <td>Virgin Atlantic</td>\n",
       "      <td>VS</td>\n",
       "      <td>Virgin Atlantic</td>\n",
       "      <td>VS</td>\n",
       "      <td>International</td>\n",
       "      <td>Europe</td>\n",
       "      <td>Enplaned</td>\n",
       "      <td>Other</td>\n",
       "      <td>International</td>\n",
       "      <td>A</td>\n",
       "      <td>6650</td>\n",
       "    </tr>\n",
       "    <tr>\n",
       "      <th>50728</th>\n",
       "      <td>202212</td>\n",
       "      <td>WestJet Airlines</td>\n",
       "      <td>WS</td>\n",
       "      <td>WestJet Airlines</td>\n",
       "      <td>WS</td>\n",
       "      <td>International</td>\n",
       "      <td>Canada</td>\n",
       "      <td>Deplaned</td>\n",
       "      <td>Other</td>\n",
       "      <td>International</td>\n",
       "      <td>A</td>\n",
       "      <td>1679</td>\n",
       "    </tr>\n",
       "    <tr>\n",
       "      <th>50729</th>\n",
       "      <td>202212</td>\n",
       "      <td>WestJet Airlines</td>\n",
       "      <td>WS</td>\n",
       "      <td>WestJet Airlines</td>\n",
       "      <td>WS</td>\n",
       "      <td>International</td>\n",
       "      <td>Canada</td>\n",
       "      <td>Enplaned</td>\n",
       "      <td>Other</td>\n",
       "      <td>International</td>\n",
       "      <td>A</td>\n",
       "      <td>1857</td>\n",
       "    </tr>\n",
       "  </tbody>\n",
       "</table>\n",
       "<p>50730 rows × 12 columns</p>\n",
       "</div>"
      ],
      "text/plain": [
       "       Activity Period     Operating Airline Operating Airline IATA Code  \\\n",
       "0               200507          ATA Airlines                          TZ   \n",
       "1               200507          ATA Airlines                          TZ   \n",
       "2               200507          ATA Airlines                          TZ   \n",
       "3               200507            Air Canada                          AC   \n",
       "4               200507            Air Canada                          AC   \n",
       "...                ...                   ...                         ...   \n",
       "50725           202212  Vietnam Airlines JSC                          VN   \n",
       "50726           202212       Virgin Atlantic                          VS   \n",
       "50727           202212       Virgin Atlantic                          VS   \n",
       "50728           202212      WestJet Airlines                          WS   \n",
       "50729           202212      WestJet Airlines                          WS   \n",
       "\n",
       "          Published Airline Published Airline IATA Code    GEO Summary  \\\n",
       "0              ATA Airlines                          TZ       Domestic   \n",
       "1              ATA Airlines                          TZ       Domestic   \n",
       "2              ATA Airlines                          TZ       Domestic   \n",
       "3                Air Canada                          AC  International   \n",
       "4                Air Canada                          AC  International   \n",
       "...                     ...                         ...            ...   \n",
       "50725  Vietnam Airlines JSC                          VN  International   \n",
       "50726       Virgin Atlantic                          VS  International   \n",
       "50727       Virgin Atlantic                          VS  International   \n",
       "50728      WestJet Airlines                          WS  International   \n",
       "50729      WestJet Airlines                          WS  International   \n",
       "\n",
       "      GEO Region Activity Type Code Price Category Code       Terminal  \\\n",
       "0             US           Deplaned            Low Fare     Terminal 1   \n",
       "1             US           Enplaned            Low Fare     Terminal 1   \n",
       "2             US     Thru / Transit            Low Fare     Terminal 1   \n",
       "3         Canada           Deplaned               Other     Terminal 1   \n",
       "4         Canada           Enplaned               Other     Terminal 1   \n",
       "...          ...                ...                 ...            ...   \n",
       "50725       Asia           Enplaned               Other  International   \n",
       "50726     Europe           Deplaned               Other  International   \n",
       "50727     Europe           Enplaned               Other  International   \n",
       "50728     Canada           Deplaned               Other  International   \n",
       "50729     Canada           Enplaned               Other  International   \n",
       "\n",
       "      Boarding Area  Passenger Count  \n",
       "0                 B            27271  \n",
       "1                 B            29131  \n",
       "2                 B             5415  \n",
       "3                 B            35156  \n",
       "4                 B            34090  \n",
       "...             ...              ...  \n",
       "50725             A             3197  \n",
       "50726             A             5836  \n",
       "50727             A             6650  \n",
       "50728             A             1679  \n",
       "50729             A             1857  \n",
       "\n",
       "[50730 rows x 12 columns]"
      ]
     },
     "execution_count": 52,
     "metadata": {},
     "output_type": "execute_result"
    }
   ],
   "source": [
    "df"
   ]
  },
  {
   "cell_type": "markdown",
   "id": "7c492cdf-addc-469e-8f00-da48e34c9cf5",
   "metadata": {},
   "source": [
    "#### Data Preparstion and Cleaning\n",
    "+ Load the dataet into a data frame using Pandas\n",
    "+ Explore the number of rows & columns, ranges of values etc.\n",
    "+ handle missing, incorrect and invalid data\n",
    "+ Perform any additional steps(parsing dates, creating additional columns, merging multiple dataset etc.)"
   ]
  },
  {
   "cell_type": "code",
   "execution_count": 53,
   "id": "89d47ca8-19b9-4cdf-a3c5-9e6cad4b0a1d",
   "metadata": {
    "tags": []
   },
   "outputs": [
    {
     "name": "stdout",
     "output_type": "stream",
     "text": [
      "<class 'pandas.core.frame.DataFrame'>\n",
      "RangeIndex: 50730 entries, 0 to 50729\n",
      "Data columns (total 12 columns):\n",
      " #   Column                       Non-Null Count  Dtype \n",
      "---  ------                       --------------  ----- \n",
      " 0   Activity Period              50730 non-null  int64 \n",
      " 1   Operating Airline            50730 non-null  object\n",
      " 2   Operating Airline IATA Code  50427 non-null  object\n",
      " 3   Published Airline            50730 non-null  object\n",
      " 4   Published Airline IATA Code  50427 non-null  object\n",
      " 5   GEO Summary                  50730 non-null  object\n",
      " 6   GEO Region                   50730 non-null  object\n",
      " 7   Activity Type Code           50730 non-null  object\n",
      " 8   Price Category Code          50730 non-null  object\n",
      " 9   Terminal                     50730 non-null  object\n",
      " 10  Boarding Area                50730 non-null  object\n",
      " 11  Passenger Count              50730 non-null  int64 \n",
      "dtypes: int64(2), object(10)\n",
      "memory usage: 4.6+ MB\n"
     ]
    }
   ],
   "source": [
    "df.info()"
   ]
  },
  {
   "cell_type": "code",
   "execution_count": 54,
   "id": "cd01c9ca-38e2-4a4d-8f78-6e63c01849a6",
   "metadata": {
    "tags": []
   },
   "outputs": [],
   "source": [
    "df.drop([\"Operating Airline IATA Code\",\"Published Airline IATA Code\"],axis=1,inplace=True)"
   ]
  },
  {
   "cell_type": "code",
   "execution_count": 55,
   "id": "de9be20b-effd-4c1b-b940-3d83e7e370da",
   "metadata": {
    "tags": []
   },
   "outputs": [
    {
     "data": {
      "text/html": [
       "<div>\n",
       "<style scoped>\n",
       "    .dataframe tbody tr th:only-of-type {\n",
       "        vertical-align: middle;\n",
       "    }\n",
       "\n",
       "    .dataframe tbody tr th {\n",
       "        vertical-align: top;\n",
       "    }\n",
       "\n",
       "    .dataframe thead th {\n",
       "        text-align: right;\n",
       "    }\n",
       "</style>\n",
       "<table border=\"1\" class=\"dataframe\">\n",
       "  <thead>\n",
       "    <tr style=\"text-align: right;\">\n",
       "      <th></th>\n",
       "      <th>Activity Period</th>\n",
       "      <th>Operating Airline</th>\n",
       "      <th>Published Airline</th>\n",
       "      <th>GEO Summary</th>\n",
       "      <th>GEO Region</th>\n",
       "      <th>Activity Type Code</th>\n",
       "      <th>Price Category Code</th>\n",
       "      <th>Terminal</th>\n",
       "      <th>Boarding Area</th>\n",
       "      <th>Passenger Count</th>\n",
       "    </tr>\n",
       "  </thead>\n",
       "  <tbody>\n",
       "    <tr>\n",
       "      <th>0</th>\n",
       "      <td>200507</td>\n",
       "      <td>ATA Airlines</td>\n",
       "      <td>ATA Airlines</td>\n",
       "      <td>Domestic</td>\n",
       "      <td>US</td>\n",
       "      <td>Deplaned</td>\n",
       "      <td>Low Fare</td>\n",
       "      <td>Terminal 1</td>\n",
       "      <td>B</td>\n",
       "      <td>27271</td>\n",
       "    </tr>\n",
       "    <tr>\n",
       "      <th>1</th>\n",
       "      <td>200507</td>\n",
       "      <td>ATA Airlines</td>\n",
       "      <td>ATA Airlines</td>\n",
       "      <td>Domestic</td>\n",
       "      <td>US</td>\n",
       "      <td>Enplaned</td>\n",
       "      <td>Low Fare</td>\n",
       "      <td>Terminal 1</td>\n",
       "      <td>B</td>\n",
       "      <td>29131</td>\n",
       "    </tr>\n",
       "    <tr>\n",
       "      <th>2</th>\n",
       "      <td>200507</td>\n",
       "      <td>ATA Airlines</td>\n",
       "      <td>ATA Airlines</td>\n",
       "      <td>Domestic</td>\n",
       "      <td>US</td>\n",
       "      <td>Thru / Transit</td>\n",
       "      <td>Low Fare</td>\n",
       "      <td>Terminal 1</td>\n",
       "      <td>B</td>\n",
       "      <td>5415</td>\n",
       "    </tr>\n",
       "    <tr>\n",
       "      <th>3</th>\n",
       "      <td>200507</td>\n",
       "      <td>Air Canada</td>\n",
       "      <td>Air Canada</td>\n",
       "      <td>International</td>\n",
       "      <td>Canada</td>\n",
       "      <td>Deplaned</td>\n",
       "      <td>Other</td>\n",
       "      <td>Terminal 1</td>\n",
       "      <td>B</td>\n",
       "      <td>35156</td>\n",
       "    </tr>\n",
       "    <tr>\n",
       "      <th>4</th>\n",
       "      <td>200507</td>\n",
       "      <td>Air Canada</td>\n",
       "      <td>Air Canada</td>\n",
       "      <td>International</td>\n",
       "      <td>Canada</td>\n",
       "      <td>Enplaned</td>\n",
       "      <td>Other</td>\n",
       "      <td>Terminal 1</td>\n",
       "      <td>B</td>\n",
       "      <td>34090</td>\n",
       "    </tr>\n",
       "    <tr>\n",
       "      <th>...</th>\n",
       "      <td>...</td>\n",
       "      <td>...</td>\n",
       "      <td>...</td>\n",
       "      <td>...</td>\n",
       "      <td>...</td>\n",
       "      <td>...</td>\n",
       "      <td>...</td>\n",
       "      <td>...</td>\n",
       "      <td>...</td>\n",
       "      <td>...</td>\n",
       "    </tr>\n",
       "    <tr>\n",
       "      <th>50725</th>\n",
       "      <td>202212</td>\n",
       "      <td>Vietnam Airlines JSC</td>\n",
       "      <td>Vietnam Airlines JSC</td>\n",
       "      <td>International</td>\n",
       "      <td>Asia</td>\n",
       "      <td>Enplaned</td>\n",
       "      <td>Other</td>\n",
       "      <td>International</td>\n",
       "      <td>A</td>\n",
       "      <td>3197</td>\n",
       "    </tr>\n",
       "    <tr>\n",
       "      <th>50726</th>\n",
       "      <td>202212</td>\n",
       "      <td>Virgin Atlantic</td>\n",
       "      <td>Virgin Atlantic</td>\n",
       "      <td>International</td>\n",
       "      <td>Europe</td>\n",
       "      <td>Deplaned</td>\n",
       "      <td>Other</td>\n",
       "      <td>International</td>\n",
       "      <td>A</td>\n",
       "      <td>5836</td>\n",
       "    </tr>\n",
       "    <tr>\n",
       "      <th>50727</th>\n",
       "      <td>202212</td>\n",
       "      <td>Virgin Atlantic</td>\n",
       "      <td>Virgin Atlantic</td>\n",
       "      <td>International</td>\n",
       "      <td>Europe</td>\n",
       "      <td>Enplaned</td>\n",
       "      <td>Other</td>\n",
       "      <td>International</td>\n",
       "      <td>A</td>\n",
       "      <td>6650</td>\n",
       "    </tr>\n",
       "    <tr>\n",
       "      <th>50728</th>\n",
       "      <td>202212</td>\n",
       "      <td>WestJet Airlines</td>\n",
       "      <td>WestJet Airlines</td>\n",
       "      <td>International</td>\n",
       "      <td>Canada</td>\n",
       "      <td>Deplaned</td>\n",
       "      <td>Other</td>\n",
       "      <td>International</td>\n",
       "      <td>A</td>\n",
       "      <td>1679</td>\n",
       "    </tr>\n",
       "    <tr>\n",
       "      <th>50729</th>\n",
       "      <td>202212</td>\n",
       "      <td>WestJet Airlines</td>\n",
       "      <td>WestJet Airlines</td>\n",
       "      <td>International</td>\n",
       "      <td>Canada</td>\n",
       "      <td>Enplaned</td>\n",
       "      <td>Other</td>\n",
       "      <td>International</td>\n",
       "      <td>A</td>\n",
       "      <td>1857</td>\n",
       "    </tr>\n",
       "  </tbody>\n",
       "</table>\n",
       "<p>50730 rows × 10 columns</p>\n",
       "</div>"
      ],
      "text/plain": [
       "       Activity Period     Operating Airline     Published Airline  \\\n",
       "0               200507          ATA Airlines          ATA Airlines   \n",
       "1               200507          ATA Airlines          ATA Airlines   \n",
       "2               200507          ATA Airlines          ATA Airlines   \n",
       "3               200507            Air Canada            Air Canada   \n",
       "4               200507            Air Canada            Air Canada   \n",
       "...                ...                   ...                   ...   \n",
       "50725           202212  Vietnam Airlines JSC  Vietnam Airlines JSC   \n",
       "50726           202212       Virgin Atlantic       Virgin Atlantic   \n",
       "50727           202212       Virgin Atlantic       Virgin Atlantic   \n",
       "50728           202212      WestJet Airlines      WestJet Airlines   \n",
       "50729           202212      WestJet Airlines      WestJet Airlines   \n",
       "\n",
       "         GEO Summary GEO Region Activity Type Code Price Category Code  \\\n",
       "0           Domestic         US           Deplaned            Low Fare   \n",
       "1           Domestic         US           Enplaned            Low Fare   \n",
       "2           Domestic         US     Thru / Transit            Low Fare   \n",
       "3      International     Canada           Deplaned               Other   \n",
       "4      International     Canada           Enplaned               Other   \n",
       "...              ...        ...                ...                 ...   \n",
       "50725  International       Asia           Enplaned               Other   \n",
       "50726  International     Europe           Deplaned               Other   \n",
       "50727  International     Europe           Enplaned               Other   \n",
       "50728  International     Canada           Deplaned               Other   \n",
       "50729  International     Canada           Enplaned               Other   \n",
       "\n",
       "            Terminal Boarding Area  Passenger Count  \n",
       "0         Terminal 1             B            27271  \n",
       "1         Terminal 1             B            29131  \n",
       "2         Terminal 1             B             5415  \n",
       "3         Terminal 1             B            35156  \n",
       "4         Terminal 1             B            34090  \n",
       "...              ...           ...              ...  \n",
       "50725  International             A             3197  \n",
       "50726  International             A             5836  \n",
       "50727  International             A             6650  \n",
       "50728  International             A             1679  \n",
       "50729  International             A             1857  \n",
       "\n",
       "[50730 rows x 10 columns]"
      ]
     },
     "execution_count": 55,
     "metadata": {},
     "output_type": "execute_result"
    }
   ],
   "source": [
    "df"
   ]
  },
  {
   "cell_type": "code",
   "execution_count": 56,
   "id": "f5fde33f-d09a-4ec6-8a85-765731e27141",
   "metadata": {
    "tags": []
   },
   "outputs": [
    {
     "name": "stdout",
     "output_type": "stream",
     "text": [
      "<class 'pandas.core.frame.DataFrame'>\n",
      "RangeIndex: 50730 entries, 0 to 50729\n",
      "Data columns (total 10 columns):\n",
      " #   Column               Non-Null Count  Dtype \n",
      "---  ------               --------------  ----- \n",
      " 0   Activity Period      50730 non-null  int64 \n",
      " 1   Operating Airline    50730 non-null  object\n",
      " 2   Published Airline    50730 non-null  object\n",
      " 3   GEO Summary          50730 non-null  object\n",
      " 4   GEO Region           50730 non-null  object\n",
      " 5   Activity Type Code   50730 non-null  object\n",
      " 6   Price Category Code  50730 non-null  object\n",
      " 7   Terminal             50730 non-null  object\n",
      " 8   Boarding Area        50730 non-null  object\n",
      " 9   Passenger Count      50730 non-null  int64 \n",
      "dtypes: int64(2), object(8)\n",
      "memory usage: 3.9+ MB\n"
     ]
    }
   ],
   "source": [
    "df.info()"
   ]
  },
  {
   "cell_type": "code",
   "execution_count": 61,
   "id": "c3d21ef4-1bcf-4a89-bbe1-b355a19df70a",
   "metadata": {
    "tags": []
   },
   "outputs": [],
   "source": [
    "def new_col(df):\n",
    "    df['Year']=0\n",
    "    df['month']=0\n",
    "    for idx,value in df[\"Activity Period\"].items():\n",
    "        val=str(value)\n",
    "        df.at[idx,'Year']=int(val[0:4])\n",
    "        df.at[idx,'month']=int(val[4:6])\n",
    "    return df"
   ]
  },
  {
   "cell_type": "code",
   "execution_count": 62,
   "id": "5bc75643-e178-43f3-8064-56aea55db72d",
   "metadata": {
    "tags": []
   },
   "outputs": [
    {
     "data": {
      "text/html": [
       "<div>\n",
       "<style scoped>\n",
       "    .dataframe tbody tr th:only-of-type {\n",
       "        vertical-align: middle;\n",
       "    }\n",
       "\n",
       "    .dataframe tbody tr th {\n",
       "        vertical-align: top;\n",
       "    }\n",
       "\n",
       "    .dataframe thead th {\n",
       "        text-align: right;\n",
       "    }\n",
       "</style>\n",
       "<table border=\"1\" class=\"dataframe\">\n",
       "  <thead>\n",
       "    <tr style=\"text-align: right;\">\n",
       "      <th></th>\n",
       "      <th>Activity Period</th>\n",
       "      <th>Operating Airline</th>\n",
       "      <th>Published Airline</th>\n",
       "      <th>GEO Summary</th>\n",
       "      <th>GEO Region</th>\n",
       "      <th>Activity Type Code</th>\n",
       "      <th>Price Category Code</th>\n",
       "      <th>Terminal</th>\n",
       "      <th>Boarding Area</th>\n",
       "      <th>Passenger Count</th>\n",
       "      <th>Year</th>\n",
       "      <th>month</th>\n",
       "    </tr>\n",
       "  </thead>\n",
       "  <tbody>\n",
       "    <tr>\n",
       "      <th>0</th>\n",
       "      <td>200507</td>\n",
       "      <td>ATA Airlines</td>\n",
       "      <td>ATA Airlines</td>\n",
       "      <td>Domestic</td>\n",
       "      <td>US</td>\n",
       "      <td>Deplaned</td>\n",
       "      <td>Low Fare</td>\n",
       "      <td>Terminal 1</td>\n",
       "      <td>B</td>\n",
       "      <td>27271</td>\n",
       "      <td>2005</td>\n",
       "      <td>7</td>\n",
       "    </tr>\n",
       "    <tr>\n",
       "      <th>1</th>\n",
       "      <td>200507</td>\n",
       "      <td>ATA Airlines</td>\n",
       "      <td>ATA Airlines</td>\n",
       "      <td>Domestic</td>\n",
       "      <td>US</td>\n",
       "      <td>Enplaned</td>\n",
       "      <td>Low Fare</td>\n",
       "      <td>Terminal 1</td>\n",
       "      <td>B</td>\n",
       "      <td>29131</td>\n",
       "      <td>2005</td>\n",
       "      <td>7</td>\n",
       "    </tr>\n",
       "    <tr>\n",
       "      <th>2</th>\n",
       "      <td>200507</td>\n",
       "      <td>ATA Airlines</td>\n",
       "      <td>ATA Airlines</td>\n",
       "      <td>Domestic</td>\n",
       "      <td>US</td>\n",
       "      <td>Thru / Transit</td>\n",
       "      <td>Low Fare</td>\n",
       "      <td>Terminal 1</td>\n",
       "      <td>B</td>\n",
       "      <td>5415</td>\n",
       "      <td>2005</td>\n",
       "      <td>7</td>\n",
       "    </tr>\n",
       "    <tr>\n",
       "      <th>3</th>\n",
       "      <td>200507</td>\n",
       "      <td>Air Canada</td>\n",
       "      <td>Air Canada</td>\n",
       "      <td>International</td>\n",
       "      <td>Canada</td>\n",
       "      <td>Deplaned</td>\n",
       "      <td>Other</td>\n",
       "      <td>Terminal 1</td>\n",
       "      <td>B</td>\n",
       "      <td>35156</td>\n",
       "      <td>2005</td>\n",
       "      <td>7</td>\n",
       "    </tr>\n",
       "    <tr>\n",
       "      <th>4</th>\n",
       "      <td>200507</td>\n",
       "      <td>Air Canada</td>\n",
       "      <td>Air Canada</td>\n",
       "      <td>International</td>\n",
       "      <td>Canada</td>\n",
       "      <td>Enplaned</td>\n",
       "      <td>Other</td>\n",
       "      <td>Terminal 1</td>\n",
       "      <td>B</td>\n",
       "      <td>34090</td>\n",
       "      <td>2005</td>\n",
       "      <td>7</td>\n",
       "    </tr>\n",
       "    <tr>\n",
       "      <th>...</th>\n",
       "      <td>...</td>\n",
       "      <td>...</td>\n",
       "      <td>...</td>\n",
       "      <td>...</td>\n",
       "      <td>...</td>\n",
       "      <td>...</td>\n",
       "      <td>...</td>\n",
       "      <td>...</td>\n",
       "      <td>...</td>\n",
       "      <td>...</td>\n",
       "      <td>...</td>\n",
       "      <td>...</td>\n",
       "    </tr>\n",
       "    <tr>\n",
       "      <th>50725</th>\n",
       "      <td>202212</td>\n",
       "      <td>Vietnam Airlines JSC</td>\n",
       "      <td>Vietnam Airlines JSC</td>\n",
       "      <td>International</td>\n",
       "      <td>Asia</td>\n",
       "      <td>Enplaned</td>\n",
       "      <td>Other</td>\n",
       "      <td>International</td>\n",
       "      <td>A</td>\n",
       "      <td>3197</td>\n",
       "      <td>2022</td>\n",
       "      <td>12</td>\n",
       "    </tr>\n",
       "    <tr>\n",
       "      <th>50726</th>\n",
       "      <td>202212</td>\n",
       "      <td>Virgin Atlantic</td>\n",
       "      <td>Virgin Atlantic</td>\n",
       "      <td>International</td>\n",
       "      <td>Europe</td>\n",
       "      <td>Deplaned</td>\n",
       "      <td>Other</td>\n",
       "      <td>International</td>\n",
       "      <td>A</td>\n",
       "      <td>5836</td>\n",
       "      <td>2022</td>\n",
       "      <td>12</td>\n",
       "    </tr>\n",
       "    <tr>\n",
       "      <th>50727</th>\n",
       "      <td>202212</td>\n",
       "      <td>Virgin Atlantic</td>\n",
       "      <td>Virgin Atlantic</td>\n",
       "      <td>International</td>\n",
       "      <td>Europe</td>\n",
       "      <td>Enplaned</td>\n",
       "      <td>Other</td>\n",
       "      <td>International</td>\n",
       "      <td>A</td>\n",
       "      <td>6650</td>\n",
       "      <td>2022</td>\n",
       "      <td>12</td>\n",
       "    </tr>\n",
       "    <tr>\n",
       "      <th>50728</th>\n",
       "      <td>202212</td>\n",
       "      <td>WestJet Airlines</td>\n",
       "      <td>WestJet Airlines</td>\n",
       "      <td>International</td>\n",
       "      <td>Canada</td>\n",
       "      <td>Deplaned</td>\n",
       "      <td>Other</td>\n",
       "      <td>International</td>\n",
       "      <td>A</td>\n",
       "      <td>1679</td>\n",
       "      <td>2022</td>\n",
       "      <td>12</td>\n",
       "    </tr>\n",
       "    <tr>\n",
       "      <th>50729</th>\n",
       "      <td>202212</td>\n",
       "      <td>WestJet Airlines</td>\n",
       "      <td>WestJet Airlines</td>\n",
       "      <td>International</td>\n",
       "      <td>Canada</td>\n",
       "      <td>Enplaned</td>\n",
       "      <td>Other</td>\n",
       "      <td>International</td>\n",
       "      <td>A</td>\n",
       "      <td>1857</td>\n",
       "      <td>2022</td>\n",
       "      <td>12</td>\n",
       "    </tr>\n",
       "  </tbody>\n",
       "</table>\n",
       "<p>50730 rows × 12 columns</p>\n",
       "</div>"
      ],
      "text/plain": [
       "       Activity Period     Operating Airline     Published Airline  \\\n",
       "0               200507          ATA Airlines          ATA Airlines   \n",
       "1               200507          ATA Airlines          ATA Airlines   \n",
       "2               200507          ATA Airlines          ATA Airlines   \n",
       "3               200507            Air Canada            Air Canada   \n",
       "4               200507            Air Canada            Air Canada   \n",
       "...                ...                   ...                   ...   \n",
       "50725           202212  Vietnam Airlines JSC  Vietnam Airlines JSC   \n",
       "50726           202212       Virgin Atlantic       Virgin Atlantic   \n",
       "50727           202212       Virgin Atlantic       Virgin Atlantic   \n",
       "50728           202212      WestJet Airlines      WestJet Airlines   \n",
       "50729           202212      WestJet Airlines      WestJet Airlines   \n",
       "\n",
       "         GEO Summary GEO Region Activity Type Code Price Category Code  \\\n",
       "0           Domestic         US           Deplaned            Low Fare   \n",
       "1           Domestic         US           Enplaned            Low Fare   \n",
       "2           Domestic         US     Thru / Transit            Low Fare   \n",
       "3      International     Canada           Deplaned               Other   \n",
       "4      International     Canada           Enplaned               Other   \n",
       "...              ...        ...                ...                 ...   \n",
       "50725  International       Asia           Enplaned               Other   \n",
       "50726  International     Europe           Deplaned               Other   \n",
       "50727  International     Europe           Enplaned               Other   \n",
       "50728  International     Canada           Deplaned               Other   \n",
       "50729  International     Canada           Enplaned               Other   \n",
       "\n",
       "            Terminal Boarding Area  Passenger Count  Year  month  \n",
       "0         Terminal 1             B            27271  2005      7  \n",
       "1         Terminal 1             B            29131  2005      7  \n",
       "2         Terminal 1             B             5415  2005      7  \n",
       "3         Terminal 1             B            35156  2005      7  \n",
       "4         Terminal 1             B            34090  2005      7  \n",
       "...              ...           ...              ...   ...    ...  \n",
       "50725  International             A             3197  2022     12  \n",
       "50726  International             A             5836  2022     12  \n",
       "50727  International             A             6650  2022     12  \n",
       "50728  International             A             1679  2022     12  \n",
       "50729  International             A             1857  2022     12  \n",
       "\n",
       "[50730 rows x 12 columns]"
      ]
     },
     "execution_count": 62,
     "metadata": {},
     "output_type": "execute_result"
    }
   ],
   "source": [
    "new_col(df)"
   ]
  },
  {
   "cell_type": "code",
   "execution_count": 74,
   "id": "e104558d-f26b-4932-aa0e-86ef22837c39",
   "metadata": {
    "tags": []
   },
   "outputs": [
    {
     "data": {
      "text/html": [
       "<div>\n",
       "<style scoped>\n",
       "    .dataframe tbody tr th:only-of-type {\n",
       "        vertical-align: middle;\n",
       "    }\n",
       "\n",
       "    .dataframe tbody tr th {\n",
       "        vertical-align: top;\n",
       "    }\n",
       "\n",
       "    .dataframe thead th {\n",
       "        text-align: right;\n",
       "    }\n",
       "</style>\n",
       "<table border=\"1\" class=\"dataframe\">\n",
       "  <thead>\n",
       "    <tr style=\"text-align: right;\">\n",
       "      <th></th>\n",
       "      <th>Activity Period</th>\n",
       "      <th>Passenger Count</th>\n",
       "      <th>Year</th>\n",
       "      <th>month</th>\n",
       "    </tr>\n",
       "  </thead>\n",
       "  <tbody>\n",
       "    <tr>\n",
       "      <th>count</th>\n",
       "      <td>50730.000000</td>\n",
       "      <td>50730.000000</td>\n",
       "      <td>50730.000000</td>\n",
       "      <td>50730.000000</td>\n",
       "    </tr>\n",
       "    <tr>\n",
       "      <th>mean</th>\n",
       "      <td>201390.461640</td>\n",
       "      <td>28489.836073</td>\n",
       "      <td>2013.838951</td>\n",
       "      <td>6.566509</td>\n",
       "    </tr>\n",
       "    <tr>\n",
       "      <th>std</th>\n",
       "      <td>495.261863</td>\n",
       "      <td>60100.148363</td>\n",
       "      <td>4.954727</td>\n",
       "      <td>3.437665</td>\n",
       "    </tr>\n",
       "    <tr>\n",
       "      <th>min</th>\n",
       "      <td>200507.000000</td>\n",
       "      <td>1.000000</td>\n",
       "      <td>2005.000000</td>\n",
       "      <td>1.000000</td>\n",
       "    </tr>\n",
       "    <tr>\n",
       "      <th>25%</th>\n",
       "      <td>201001.000000</td>\n",
       "      <td>4553.000000</td>\n",
       "      <td>2010.000000</td>\n",
       "      <td>4.000000</td>\n",
       "    </tr>\n",
       "    <tr>\n",
       "      <th>50%</th>\n",
       "      <td>201408.000000</td>\n",
       "      <td>8645.500000</td>\n",
       "      <td>2014.000000</td>\n",
       "      <td>7.000000</td>\n",
       "    </tr>\n",
       "    <tr>\n",
       "      <th>75%</th>\n",
       "      <td>201807.000000</td>\n",
       "      <td>19508.500000</td>\n",
       "      <td>2018.000000</td>\n",
       "      <td>10.000000</td>\n",
       "    </tr>\n",
       "    <tr>\n",
       "      <th>max</th>\n",
       "      <td>202212.000000</td>\n",
       "      <td>659837.000000</td>\n",
       "      <td>2022.000000</td>\n",
       "      <td>12.000000</td>\n",
       "    </tr>\n",
       "  </tbody>\n",
       "</table>\n",
       "</div>"
      ],
      "text/plain": [
       "       Activity Period  Passenger Count          Year         month\n",
       "count     50730.000000     50730.000000  50730.000000  50730.000000\n",
       "mean     201390.461640     28489.836073   2013.838951      6.566509\n",
       "std         495.261863     60100.148363      4.954727      3.437665\n",
       "min      200507.000000         1.000000   2005.000000      1.000000\n",
       "25%      201001.000000      4553.000000   2010.000000      4.000000\n",
       "50%      201408.000000      8645.500000   2014.000000      7.000000\n",
       "75%      201807.000000     19508.500000   2018.000000     10.000000\n",
       "max      202212.000000    659837.000000   2022.000000     12.000000"
      ]
     },
     "execution_count": 74,
     "metadata": {},
     "output_type": "execute_result"
    }
   ],
   "source": [
    "df.describe()"
   ]
  },
  {
   "cell_type": "code",
   "execution_count": 78,
   "id": "5a4e2efa-23a3-457b-b50b-6c6818ab5c52",
   "metadata": {
    "tags": []
   },
   "outputs": [],
   "source": [
    "df=df.drop(['Activity Period'],axis=1)"
   ]
  },
  {
   "cell_type": "code",
   "execution_count": 79,
   "id": "38c520bc-6e9d-4687-92cd-26a32542c206",
   "metadata": {
    "tags": []
   },
   "outputs": [
    {
     "data": {
      "text/html": [
       "<div>\n",
       "<style scoped>\n",
       "    .dataframe tbody tr th:only-of-type {\n",
       "        vertical-align: middle;\n",
       "    }\n",
       "\n",
       "    .dataframe tbody tr th {\n",
       "        vertical-align: top;\n",
       "    }\n",
       "\n",
       "    .dataframe thead th {\n",
       "        text-align: right;\n",
       "    }\n",
       "</style>\n",
       "<table border=\"1\" class=\"dataframe\">\n",
       "  <thead>\n",
       "    <tr style=\"text-align: right;\">\n",
       "      <th></th>\n",
       "      <th>Operating Airline</th>\n",
       "      <th>Published Airline</th>\n",
       "      <th>GEO Summary</th>\n",
       "      <th>GEO Region</th>\n",
       "      <th>Activity Type Code</th>\n",
       "      <th>Price Category Code</th>\n",
       "      <th>Terminal</th>\n",
       "      <th>Boarding Area</th>\n",
       "      <th>Passenger Count</th>\n",
       "      <th>Year</th>\n",
       "      <th>month</th>\n",
       "    </tr>\n",
       "  </thead>\n",
       "  <tbody>\n",
       "    <tr>\n",
       "      <th>0</th>\n",
       "      <td>ATA Airlines</td>\n",
       "      <td>ATA Airlines</td>\n",
       "      <td>Domestic</td>\n",
       "      <td>US</td>\n",
       "      <td>Deplaned</td>\n",
       "      <td>Low Fare</td>\n",
       "      <td>Terminal 1</td>\n",
       "      <td>B</td>\n",
       "      <td>27271</td>\n",
       "      <td>2005</td>\n",
       "      <td>7</td>\n",
       "    </tr>\n",
       "    <tr>\n",
       "      <th>1</th>\n",
       "      <td>ATA Airlines</td>\n",
       "      <td>ATA Airlines</td>\n",
       "      <td>Domestic</td>\n",
       "      <td>US</td>\n",
       "      <td>Enplaned</td>\n",
       "      <td>Low Fare</td>\n",
       "      <td>Terminal 1</td>\n",
       "      <td>B</td>\n",
       "      <td>29131</td>\n",
       "      <td>2005</td>\n",
       "      <td>7</td>\n",
       "    </tr>\n",
       "    <tr>\n",
       "      <th>2</th>\n",
       "      <td>ATA Airlines</td>\n",
       "      <td>ATA Airlines</td>\n",
       "      <td>Domestic</td>\n",
       "      <td>US</td>\n",
       "      <td>Thru / Transit</td>\n",
       "      <td>Low Fare</td>\n",
       "      <td>Terminal 1</td>\n",
       "      <td>B</td>\n",
       "      <td>5415</td>\n",
       "      <td>2005</td>\n",
       "      <td>7</td>\n",
       "    </tr>\n",
       "    <tr>\n",
       "      <th>3</th>\n",
       "      <td>Air Canada</td>\n",
       "      <td>Air Canada</td>\n",
       "      <td>International</td>\n",
       "      <td>Canada</td>\n",
       "      <td>Deplaned</td>\n",
       "      <td>Other</td>\n",
       "      <td>Terminal 1</td>\n",
       "      <td>B</td>\n",
       "      <td>35156</td>\n",
       "      <td>2005</td>\n",
       "      <td>7</td>\n",
       "    </tr>\n",
       "    <tr>\n",
       "      <th>4</th>\n",
       "      <td>Air Canada</td>\n",
       "      <td>Air Canada</td>\n",
       "      <td>International</td>\n",
       "      <td>Canada</td>\n",
       "      <td>Enplaned</td>\n",
       "      <td>Other</td>\n",
       "      <td>Terminal 1</td>\n",
       "      <td>B</td>\n",
       "      <td>34090</td>\n",
       "      <td>2005</td>\n",
       "      <td>7</td>\n",
       "    </tr>\n",
       "    <tr>\n",
       "      <th>...</th>\n",
       "      <td>...</td>\n",
       "      <td>...</td>\n",
       "      <td>...</td>\n",
       "      <td>...</td>\n",
       "      <td>...</td>\n",
       "      <td>...</td>\n",
       "      <td>...</td>\n",
       "      <td>...</td>\n",
       "      <td>...</td>\n",
       "      <td>...</td>\n",
       "      <td>...</td>\n",
       "    </tr>\n",
       "    <tr>\n",
       "      <th>50725</th>\n",
       "      <td>Vietnam Airlines JSC</td>\n",
       "      <td>Vietnam Airlines JSC</td>\n",
       "      <td>International</td>\n",
       "      <td>Asia</td>\n",
       "      <td>Enplaned</td>\n",
       "      <td>Other</td>\n",
       "      <td>International</td>\n",
       "      <td>A</td>\n",
       "      <td>3197</td>\n",
       "      <td>2022</td>\n",
       "      <td>12</td>\n",
       "    </tr>\n",
       "    <tr>\n",
       "      <th>50726</th>\n",
       "      <td>Virgin Atlantic</td>\n",
       "      <td>Virgin Atlantic</td>\n",
       "      <td>International</td>\n",
       "      <td>Europe</td>\n",
       "      <td>Deplaned</td>\n",
       "      <td>Other</td>\n",
       "      <td>International</td>\n",
       "      <td>A</td>\n",
       "      <td>5836</td>\n",
       "      <td>2022</td>\n",
       "      <td>12</td>\n",
       "    </tr>\n",
       "    <tr>\n",
       "      <th>50727</th>\n",
       "      <td>Virgin Atlantic</td>\n",
       "      <td>Virgin Atlantic</td>\n",
       "      <td>International</td>\n",
       "      <td>Europe</td>\n",
       "      <td>Enplaned</td>\n",
       "      <td>Other</td>\n",
       "      <td>International</td>\n",
       "      <td>A</td>\n",
       "      <td>6650</td>\n",
       "      <td>2022</td>\n",
       "      <td>12</td>\n",
       "    </tr>\n",
       "    <tr>\n",
       "      <th>50728</th>\n",
       "      <td>WestJet Airlines</td>\n",
       "      <td>WestJet Airlines</td>\n",
       "      <td>International</td>\n",
       "      <td>Canada</td>\n",
       "      <td>Deplaned</td>\n",
       "      <td>Other</td>\n",
       "      <td>International</td>\n",
       "      <td>A</td>\n",
       "      <td>1679</td>\n",
       "      <td>2022</td>\n",
       "      <td>12</td>\n",
       "    </tr>\n",
       "    <tr>\n",
       "      <th>50729</th>\n",
       "      <td>WestJet Airlines</td>\n",
       "      <td>WestJet Airlines</td>\n",
       "      <td>International</td>\n",
       "      <td>Canada</td>\n",
       "      <td>Enplaned</td>\n",
       "      <td>Other</td>\n",
       "      <td>International</td>\n",
       "      <td>A</td>\n",
       "      <td>1857</td>\n",
       "      <td>2022</td>\n",
       "      <td>12</td>\n",
       "    </tr>\n",
       "  </tbody>\n",
       "</table>\n",
       "<p>50730 rows × 11 columns</p>\n",
       "</div>"
      ],
      "text/plain": [
       "          Operating Airline     Published Airline    GEO Summary GEO Region  \\\n",
       "0              ATA Airlines          ATA Airlines       Domestic         US   \n",
       "1              ATA Airlines          ATA Airlines       Domestic         US   \n",
       "2              ATA Airlines          ATA Airlines       Domestic         US   \n",
       "3                Air Canada            Air Canada  International     Canada   \n",
       "4                Air Canada            Air Canada  International     Canada   \n",
       "...                     ...                   ...            ...        ...   \n",
       "50725  Vietnam Airlines JSC  Vietnam Airlines JSC  International       Asia   \n",
       "50726       Virgin Atlantic       Virgin Atlantic  International     Europe   \n",
       "50727       Virgin Atlantic       Virgin Atlantic  International     Europe   \n",
       "50728      WestJet Airlines      WestJet Airlines  International     Canada   \n",
       "50729      WestJet Airlines      WestJet Airlines  International     Canada   \n",
       "\n",
       "      Activity Type Code Price Category Code       Terminal Boarding Area  \\\n",
       "0               Deplaned            Low Fare     Terminal 1             B   \n",
       "1               Enplaned            Low Fare     Terminal 1             B   \n",
       "2         Thru / Transit            Low Fare     Terminal 1             B   \n",
       "3               Deplaned               Other     Terminal 1             B   \n",
       "4               Enplaned               Other     Terminal 1             B   \n",
       "...                  ...                 ...            ...           ...   \n",
       "50725           Enplaned               Other  International             A   \n",
       "50726           Deplaned               Other  International             A   \n",
       "50727           Enplaned               Other  International             A   \n",
       "50728           Deplaned               Other  International             A   \n",
       "50729           Enplaned               Other  International             A   \n",
       "\n",
       "       Passenger Count  Year  month  \n",
       "0                27271  2005      7  \n",
       "1                29131  2005      7  \n",
       "2                 5415  2005      7  \n",
       "3                35156  2005      7  \n",
       "4                34090  2005      7  \n",
       "...                ...   ...    ...  \n",
       "50725             3197  2022     12  \n",
       "50726             5836  2022     12  \n",
       "50727             6650  2022     12  \n",
       "50728             1679  2022     12  \n",
       "50729             1857  2022     12  \n",
       "\n",
       "[50730 rows x 11 columns]"
      ]
     },
     "execution_count": 79,
     "metadata": {},
     "output_type": "execute_result"
    }
   ],
   "source": [
    "df"
   ]
  },
  {
   "cell_type": "code",
   "execution_count": 82,
   "id": "b4479a46-f02b-4dcf-9ee9-2f1fcfd3b655",
   "metadata": {
    "tags": []
   },
   "outputs": [
    {
     "data": {
      "text/plain": [
       "Year\n",
       "2005    1390\n",
       "2006    2738\n",
       "2007    2818\n",
       "2008    2866\n",
       "2009    2786\n",
       "2010    2766\n",
       "2011    2780\n",
       "2012    2756\n",
       "2013    2716\n",
       "2014    2736\n",
       "2015    2920\n",
       "2016    3190\n",
       "2017    3456\n",
       "2018    3712\n",
       "2019    3740\n",
       "2020    2368\n",
       "2021    2632\n",
       "2022    2360\n",
       "Name: Operating Airline, dtype: int64"
      ]
     },
     "execution_count": 82,
     "metadata": {},
     "output_type": "execute_result"
    }
   ],
   "source": [
    "ship=df.groupby('Year')['Operating Airline'].count()\n",
    "ship"
   ]
  },
  {
   "cell_type": "markdown",
   "id": "caca6b3f-6d03-4a45-bfb0-c3d1da2e3a42",
   "metadata": {},
   "source": [
    "#### Q. How many Airlines were operating in a year?"
   ]
  },
  {
   "cell_type": "code",
   "execution_count": 100,
   "id": "e3b8b97b-39bc-43a2-ad1b-870ede4e062c",
   "metadata": {
    "tags": []
   },
   "outputs": [
    {
     "data": {
      "text/plain": [
       "[<matplotlib.lines.Line2D at 0x1f7ef62fed0>]"
      ]
     },
     "execution_count": 100,
     "metadata": {},
     "output_type": "execute_result"
    },
    {
     "data": {
      "image/png": "[encoded data removed]",
      "text/plain": [
       "<Figure size 640x480 with 1 Axes>"
      ]
     },
     "metadata": {},
     "output_type": "display_data"
    }
   ],
   "source": [
    "fig, ax=plt.subplots()\n",
    "ax.set_xlim(2005,2022)\n",
    "plt.plot(ship,'o-r')\n"
   ]
  },
  {
   "cell_type": "markdown",
   "id": "c716eb8c-ce9f-47ee-bad9-3b3f963d2d9f",
   "metadata": {},
   "source": [
    "no. of airlines operating in previous years by KDE plot"
   ]
  },
  {
   "cell_type": "code",
   "execution_count": 131,
   "id": "9bb5cb8f-23ca-487b-8317-27761b38e843",
   "metadata": {
    "tags": []
   },
   "outputs": [
    {
     "data": {
      "text/plain": [
       "Text(0.5, 1.0, 'Density of Airlines')"
      ]
     },
     "execution_count": 131,
     "metadata": {},
     "output_type": "execute_result"
    },
    {
     "data": {
      "image/png": "[encoded data removed]",
      "text/plain": [
       "<Figure size 500x500 with 1 Axes>"
      ]
     },
     "metadata": {},
     "output_type": "display_data"
    }
   ],
   "source": [
    "sns.displot(df,x='Year',kind='kde',bw_adjust=2,fill=True)\n",
    "plt.title(\"Density of Airlines\")"
   ]
  },
  {
   "cell_type": "code",
   "execution_count": 143,
   "id": "4d9267c2-cde9-4b22-b5f4-df4e1f3c811a",
   "metadata": {
    "tags": []
   },
   "outputs": [
    {
     "data": {
      "text/plain": [
       "(array([ 0,  1,  2,  3,  4,  5,  6,  7,  8,  9, 10, 11, 12, 13, 14, 15, 16,\n",
       "        17]),\n",
       " [Text(0, 0, '2005'),\n",
       "  Text(1, 0, '2006'),\n",
       "  Text(2, 0, '2007'),\n",
       "  Text(3, 0, '2008'),\n",
       "  Text(4, 0, '2009'),\n",
       "  Text(5, 0, '2010'),\n",
       "  Text(6, 0, '2011'),\n",
       "  Text(7, 0, '2012'),\n",
       "  Text(8, 0, '2013'),\n",
       "  Text(9, 0, '2014'),\n",
       "  Text(10, 0, '2015'),\n",
       "  Text(11, 0, '2016'),\n",
       "  Text(12, 0, '2017'),\n",
       "  Text(13, 0, '2018'),\n",
       "  Text(14, 0, '2019'),\n",
       "  Text(15, 0, '2020'),\n",
       "  Text(16, 0, '2021'),\n",
       "  Text(17, 0, '2022')])"
      ]
     },
     "execution_count": 143,
     "metadata": {},
     "output_type": "execute_result"
    },
    {
     "data": {
      "image/png": "[encoded data removed]",
      "text/plain": [
       "<Figure size 640x480 with 1 Axes>"
      ]
     },
     "metadata": {},
     "output_type": "display_data"
    }
   ],
   "source": [
    "sns.barplot(x=ship.index,y=ship)\n",
    "plt.xticks(rotation=75)"
   ]
  },
  {
   "cell_type": "markdown",
   "id": "2081757a-07fe-4336-9474-54841ddbb350",
   "metadata": {
    "tags": []
   },
   "source": [
    "so, we can see in year 2019 number of airlines were highest."
   ]
  },
  {
   "cell_type": "markdown",
   "id": "b6ede47a-dcb0-4d11-8022-a5c90c6a3afd",
   "metadata": {},
   "source": [
    "#### Q. Which passengers travel the most, domestic or international?"
   ]
  },
  {
   "cell_type": "code",
   "execution_count": 146,
   "id": "b56dd840-ec7c-470e-b2af-ab87f5e0987a",
   "metadata": {
    "tags": []
   },
   "outputs": [],
   "source": [
    "x=df.groupby(['GEO Summary'])['Passenger Count'].sum()"
   ]
  },
  {
   "cell_type": "code",
   "execution_count": 153,
   "id": "479b8c5a-088c-4b42-afde-8eb7ddb80766",
   "metadata": {
    "tags": []
   },
   "outputs": [
    {
     "data": {
      "text/plain": [
       "Text(0.5, 1.0, 'Domestic Vs International Passengers')"
      ]
     },
     "execution_count": 153,
     "metadata": {},
     "output_type": "execute_result"
    },
    {
     "data": {
      "image/png": "[encoded data removed]",
      "text/plain": [
       "<Figure size 500x500 with 1 Axes>"
      ]
     },
     "metadata": {},
     "output_type": "display_data"
    }
   ],
   "source": [
    "x.plot.pie(figsize=(5,5))\n",
    "plt.title('Domestic Vs International Passengers')"
   ]
  },
  {
   "cell_type": "code",
   "execution_count": 149,
   "id": "52915e9b-f8a4-4380-acec-25edf546adc6",
   "metadata": {
    "tags": []
   },
   "outputs": [
    {
     "data": {
      "text/plain": [
       "GEO Summary\n",
       "Domestic         1111324977\n",
       "International     333964407\n",
       "Name: Passenger Count, dtype: int64"
      ]
     },
     "execution_count": 149,
     "metadata": {},
     "output_type": "execute_result"
    }
   ],
   "source": [
    "x"
   ]
  },
  {
   "cell_type": "markdown",
   "id": "4cba12cb-f8c1-4b3e-8e3d-8e78069fbea2",
   "metadata": {},
   "source": [
    "Domestic Passengers are more."
   ]
  },
  {
   "cell_type": "markdown",
   "id": "9e285902-fdfe-443c-aa54-cd95bdabf0d9",
   "metadata": {},
   "source": [
    "#### Q. Which flights are more, domestic or international?"
   ]
  },
  {
   "cell_type": "code",
   "execution_count": 150,
   "id": "d56d3497-e6ae-4779-a8c7-59a8339c2413",
   "metadata": {
    "tags": []
   },
   "outputs": [],
   "source": [
    "y=df.groupby(['GEO Summary'])['Published Airline'].count()"
   ]
  },
  {
   "cell_type": "code",
   "execution_count": 151,
   "id": "73d92fd2-5412-460b-b1ee-0089c839afc4",
   "metadata": {
    "tags": []
   },
   "outputs": [
    {
     "data": {
      "text/plain": [
       "GEO Summary\n",
       "Domestic         17881\n",
       "International    32849\n",
       "Name: Published Airline, dtype: int64"
      ]
     },
     "execution_count": 151,
     "metadata": {},
     "output_type": "execute_result"
    }
   ],
   "source": [
    "y"
   ]
  },
  {
   "cell_type": "code",
   "execution_count": 155,
   "id": "2086a9d3-9fb5-48e3-9de0-ca55b7f401bd",
   "metadata": {
    "tags": []
   },
   "outputs": [
    {
     "data": {
      "text/plain": [
       "Text(0.5, 1.0, 'Domestic Vs International flights')"
      ]
     },
     "execution_count": 155,
     "metadata": {},
     "output_type": "execute_result"
    },
    {
     "data": {
      "image/png": "[encoded data removed]",
      "text/plain": [
       "<Figure size 500x500 with 1 Axes>"
      ]
     },
     "metadata": {},
     "output_type": "display_data"
    }
   ],
   "source": [
    "y.plot.pie(figsize=(5,5))\n",
    "plt.title('Domestic Vs International flights')"
   ]
  },
  {
   "cell_type": "markdown",
   "id": "1b62cd63-61ba-4a9d-8159-4c89545e5241",
   "metadata": {},
   "source": [
    "#### so, International flights are more in numbers"
   ]
  },
  {
   "cell_type": "markdown",
   "id": "c0201858-f2b1-4f5e-ad60-b0b1ecfca6be",
   "metadata": {},
   "source": [
    "#### Q. In Which geo region passengers travel the most in last few years?"
   ]
  },
  {
   "cell_type": "code",
   "execution_count": 156,
   "id": "7ec3a704-bb8f-4e20-935b-cc827b932549",
   "metadata": {
    "tags": []
   },
   "outputs": [],
   "source": [
    "z=df.groupby(['GEO Region'])['Passenger Count'].sum()"
   ]
  },
  {
   "cell_type": "code",
   "execution_count": 157,
   "id": "f8500c87-22eb-48ff-81e1-cd7b922f694a",
   "metadata": {
    "tags": []
   },
   "outputs": [
    {
     "data": {
      "text/plain": [
       "GEO Region\n",
       "Asia                    136060595\n",
       "Australia / Oceania      16499694\n",
       "Canada                   44254002\n",
       "Central America           6086082\n",
       "Europe                   91201840\n",
       "Mexico                   30192770\n",
       "Middle East               9167780\n",
       "South America              501644\n",
       "US                     1111324977\n",
       "Name: Passenger Count, dtype: int64"
      ]
     },
     "execution_count": 157,
     "metadata": {},
     "output_type": "execute_result"
    }
   ],
   "source": [
    "z"
   ]
  },
  {
   "cell_type": "code",
   "execution_count": 183,
   "id": "7ebde98a-1124-4f5e-ab37-89439fe3b7aa",
   "metadata": {
    "tags": []
   },
   "outputs": [
    {
     "data": {
      "text/plain": [
       "<Axes: ylabel='Passenger Count'>"
      ]
     },
     "execution_count": 183,
     "metadata": {},
     "output_type": "execute_result"
    },
    {
     "data": {
      "image/png": "[encoded data removed]",
      "text/plain": [
       "<Figure size 700x700 with 1 Axes>"
      ]
     },
     "metadata": {},
     "output_type": "display_data"
    }
   ],
   "source": [
    "z.plot.pie(autopct='%1.2f%%',startangle=-90,radius=1.5,figsize=(7,7),explode=(0,0,0,0,0,0,0,0.5,0))\n"
   ]
  },
  {
   "cell_type": "markdown",
   "id": "b3b2ae36-39cc-4542-a9cd-f7c5b8bd16a4",
   "metadata": {},
   "source": [
    "#### In US people traveled the most in past years."
   ]
  },
  {
   "cell_type": "code",
   "execution_count": 185,
   "id": "fd12d958-0fac-4a94-b93f-13b5a4ac5f4d",
   "metadata": {
    "tags": []
   },
   "outputs": [
    {
     "data": {
      "text/plain": [
       "Text(0.5, 1.0, 'no. of flights for different terminals')"
      ]
     },
     "execution_count": 185,
     "metadata": {},
     "output_type": "execute_result"
    },
    {
     "data": {
      "image/png": "[encoded data removed]",
      "text/plain": [
       "<Figure size 640x480 with 1 Axes>"
      ]
     },
     "metadata": {},
     "output_type": "display_data"
    }
   ],
   "source": [
    "sns.histplot(data=df,x='Terminal')\n",
    "plt.title('no. of flights for different terminals')"
   ]
  },
  {
   "cell_type": "code",
   "execution_count": 187,
   "id": "b873a676-ee22-49ef-8f37-b49dfd984e4d",
   "metadata": {
    "tags": []
   },
   "outputs": [
    {
     "data": {
      "text/plain": [
       "Text(0.5, 1.0, 'no. of flights for different boarding area')"
      ]
     },
     "execution_count": 187,
     "metadata": {},
     "output_type": "execute_result"
    },
    {
     "data": {
      "image/png": "[encoded data removed]",
      "text/plain": [
       "<Figure size 640x480 with 1 Axes>"
      ]
     },
     "metadata": {},
     "output_type": "display_data"
    }
   ],
   "source": [
    "sns.histplot(data=df,x='Boarding Area',color='red')\n",
    "plt.title('no. of flights for different boarding area')"
   ]
  },
  {
   "cell_type": "code",
   "execution_count": 191,
   "id": "a7483572-2328-4142-a9a0-32552cb52a15",
   "metadata": {
    "tags": []
   },
   "outputs": [
    {
     "data": {
      "text/plain": [
       "Boarding Area\n",
       "A        17850\n",
       "B         4973\n",
       "C         3524\n",
       "D         2250\n",
       "E         2511\n",
       "F         4344\n",
       "G        15224\n",
       "Other       54\n",
       "Name: Boarding Area, dtype: int64"
      ]
     },
     "execution_count": 191,
     "metadata": {},
     "output_type": "execute_result"
    }
   ],
   "source": [
    "p=df.groupby(['Boarding Area'])['Boarding Area'].count()\n",
    "p"
   ]
  },
  {
   "cell_type": "code",
   "execution_count": 192,
   "id": "2add1257-cdfc-4029-8c9f-d4464b043e4a",
   "metadata": {
    "tags": []
   },
   "outputs": [
    {
     "data": {
      "text/plain": [
       "<Axes: ylabel='Boarding Area'>"
      ]
     },
     "execution_count": 192,
     "metadata": {},
     "output_type": "execute_result"
    },
    {
     "data": {
      "image/png": "[encoded data removed]",
      "text/plain": [
       "<Figure size 500x500 with 1 Axes>"
      ]
     },
     "metadata": {},
     "output_type": "display_data"
    }
   ],
   "source": [
    "p.plot.pie(figsize=(5,5))"
   ]
  },
  {
   "cell_type": "code",
   "execution_count": null,
   "id": "15c738ca-7b50-46b9-815d-a8a32782d41d",
   "metadata": {},
   "outputs": [],
   "source": []
  }
 ],
 "metadata": {
  "kernelspec": {
   "display_name": "Python 3 (ipykernel)",
   "language": "python",
   "name": "python3"
  },
  "language_info": {
   "codemirror_mode": {
    "name": "ipython",
    "version": 3
   },
   "file_extension": ".py",
   "mimetype": "text/x-python",
   "name": "python",
   "nbconvert_exporter": "python",
   "pygments_lexer": "ipython3",
   "version": "3.11.4"
  }
 },
 "nbformat": 4,
 "nbformat_minor": 5
}
